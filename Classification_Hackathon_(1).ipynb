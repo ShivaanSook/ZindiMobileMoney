{
  "nbformat": 4,
  "nbformat_minor": 0,
  "metadata": {
    "colab": {
      "name": "Classification_Hackathon (1).ipynb",
      "version": "0.3.2",
      "provenance": [],
      "include_colab_link": true
    },
    "kernelspec": {
      "name": "python3",
      "display_name": "Python 3"
    },
    "accelerator": "GPU"
  },
  "cells": [
    {
      "cell_type": "markdown",
      "metadata": {
        "id": "view-in-github",
        "colab_type": "text"
      },
      "source": [
        "<a href=\"https://colab.research.google.com/github/ShivaanSook/ZindiMobileMoney/blob/master/Classification_Hackathon_(1).ipynb\" target=\"_parent\"><img src=\"https://colab.research.google.com/assets/colab-badge.svg\" alt=\"Open In Colab\"/></a>"
      ]
    },
    {
      "cell_type": "code",
      "metadata": {
        "id": "wvMqxpMFme1h",
        "colab_type": "code",
        "colab": {}
      },
      "source": [
        "# Imports.\n",
        "import pandas as pd\n",
        "pd.set_option('display.max_rows', 500)\n",
        "pd.set_option('display.max_columns', 500)\n",
        "pd.set_option('display.width', 1000)\n",
        "import numpy as np\n",
        "import re\n",
        "import datetime\n",
        "\n",
        "# Machine Learning.\n",
        "from sklearn.model_selection import train_test_split\n",
        "from sklearn.model_selection import GridSearchCV\n",
        "from sklearn.linear_model import LogisticRegression\n",
        "from sklearn.model_selection import StratifiedKFold\n",
        "from sklearn.ensemble import RandomForestClassifier\n",
        "\n",
        "# Metrics\n",
        "from sklearn.metrics import confusion_matrix\n",
        "from sklearn.metrics import classification_report\n",
        "from sklearn.metrics import accuracy_score\n",
        "from sklearn.metrics import log_loss\n",
        "from sklearn.metrics import accuracy_score,recall_score,precision_score,f1_score\n",
        "\n",
        "from sklearn.utils import resample\n",
        "\n",
        "def warn(*args, **kwargs):\n",
        "    pass\n",
        "import warnings\n",
        "warnings.warn = warn"
      ],
      "execution_count": 0,
      "outputs": []
    },
    {
      "cell_type": "code",
      "metadata": {
        "id": "QAUrkANJnE10",
        "colab_type": "code",
        "colab": {}
      },
      "source": [
        "# Data\n",
        "test = pd.read_csv('test.csv')\n",
        "train = pd.read_csv('training.csv')\n",
        "train_test_combined = pd.concat([train,test], sort = False)"
      ],
      "execution_count": 0,
      "outputs": []
    },
    {
      "cell_type": "code",
      "metadata": {
        "id": "paQEYN5yoTHZ",
        "colab_type": "code",
        "outputId": "31ff668c-a7f9-430f-9ee1-51b80d9690bb",
        "colab": {
          "base_uri": "https://localhost:8080/",
          "height": 35
        }
      },
      "source": [
        "# Data Shape\n",
        "train.shape, test.shape, train_test_combined.shape"
      ],
      "execution_count": 105,
      "outputs": [
        {
          "output_type": "execute_result",
          "data": {
            "text/plain": [
              "((95662, 16), (45019, 15), (140681, 16))"
            ]
          },
          "metadata": {
            "tags": []
          },
          "execution_count": 105
        }
      ]
    },
    {
      "cell_type": "code",
      "metadata": {
        "id": "kTyd1__M1VzD",
        "colab_type": "code",
        "outputId": "ab05d51d-b36f-4602-e76b-e36347857154",
        "colab": {
          "base_uri": "https://localhost:8080/",
          "height": 326
        }
      },
      "source": [
        "# Checking for missing data \n",
        "train_test_combined.isnull().sum()"
      ],
      "execution_count": 106,
      "outputs": [
        {
          "output_type": "execute_result",
          "data": {
            "text/plain": [
              "TransactionId               0\n",
              "BatchId                     0\n",
              "AccountId                   0\n",
              "SubscriptionId              0\n",
              "CustomerId                  0\n",
              "CurrencyCode                0\n",
              "CountryCode                 0\n",
              "ProviderId                  0\n",
              "ProductId                   0\n",
              "ProductCategory             0\n",
              "ChannelId                   0\n",
              "Amount                      0\n",
              "Value                       0\n",
              "TransactionStartTime        0\n",
              "PricingStrategy             0\n",
              "FraudResult             45019\n",
              "dtype: int64"
            ]
          },
          "metadata": {
            "tags": []
          },
          "execution_count": 106
        }
      ]
    },
    {
      "cell_type": "code",
      "metadata": {
        "id": "BDFBlktvosaR",
        "colab_type": "code",
        "outputId": "5709bfef-7e1e-4aa4-9dbb-2244dff4ab70",
        "colab": {
          "base_uri": "https://localhost:8080/",
          "height": 399
        }
      },
      "source": [
        "# Checking dtypes\n",
        "train_test_combined.info()"
      ],
      "execution_count": 107,
      "outputs": [
        {
          "output_type": "stream",
          "text": [
            "<class 'pandas.core.frame.DataFrame'>\n",
            "Int64Index: 140681 entries, 0 to 45018\n",
            "Data columns (total 16 columns):\n",
            "TransactionId           140681 non-null object\n",
            "BatchId                 140681 non-null object\n",
            "AccountId               140681 non-null object\n",
            "SubscriptionId          140681 non-null object\n",
            "CustomerId              140681 non-null object\n",
            "CurrencyCode            140681 non-null object\n",
            "CountryCode             140681 non-null int64\n",
            "ProviderId              140681 non-null object\n",
            "ProductId               140681 non-null object\n",
            "ProductCategory         140681 non-null object\n",
            "ChannelId               140681 non-null object\n",
            "Amount                  140681 non-null float64\n",
            "Value                   140681 non-null int64\n",
            "TransactionStartTime    140681 non-null object\n",
            "PricingStrategy         140681 non-null int64\n",
            "FraudResult             95662 non-null float64\n",
            "dtypes: float64(2), int64(3), object(11)\n",
            "memory usage: 18.2+ MB\n"
          ],
          "name": "stdout"
        }
      ]
    },
    {
      "cell_type": "code",
      "metadata": {
        "id": "M0rO2oKxo0jB",
        "colab_type": "code",
        "colab": {}
      },
      "source": [
        "# Removing text from columns and converting them to numerical dtype\n",
        "def remove_text(string):\n",
        "  string = re.sub('[a-zA-Z]+_', '', string)\n",
        "  return string\n",
        "\n",
        "train_test_combined['TransactionId'] = train_test_combined['TransactionId'].apply(remove_text)\n",
        "train_test_combined['TransactionId'] = train_test_combined['TransactionId'].astype('int')\n",
        "\n",
        "train_test_combined['BatchId'] = train_test_combined['BatchId'].apply(remove_text)\n",
        "train_test_combined['BatchId'] = train_test_combined['BatchId'].astype('int')\n",
        "\n",
        "train_test_combined['AccountId'] = train_test_combined['AccountId'].apply(remove_text)\n",
        "train_test_combined['AccountId'] = train_test_combined['AccountId'].astype('int')\n",
        "\n",
        "train_test_combined['SubscriptionId'] = train_test_combined['SubscriptionId'].apply(remove_text)\n",
        "train_test_combined['SubscriptionId'] = train_test_combined['SubscriptionId'].astype('int')\n",
        "\n",
        "train_test_combined['CustomerId'] = train_test_combined['CustomerId'].apply(remove_text)\n",
        "train_test_combined['CustomerId'] = train_test_combined['CustomerId'].astype('int')\n",
        "\n",
        "train_test_combined['ProviderId'] = train_test_combined['ProviderId'].apply(remove_text)\n",
        "train_test_combined['ProviderId'] = train_test_combined['ProviderId'].astype('int')\n",
        "\n",
        "train_test_combined['ProductId'] = train_test_combined['ProductId'].apply(remove_text)\n",
        "train_test_combined['ProductId'] = train_test_combined['ProductId'].astype('int')\n",
        "\n",
        "train_test_combined['ChannelId'] = train_test_combined['ChannelId'].apply(remove_text)\n",
        "train_test_combined['ChannelId'] = train_test_combined['ChannelId'].astype('int')"
      ],
      "execution_count": 0,
      "outputs": []
    },
    {
      "cell_type": "code",
      "metadata": {
        "id": "8x2bcmBUwua_",
        "colab_type": "code",
        "colab": {}
      },
      "source": [
        "# Handling Date and Time\n",
        "\"\"\"train_test_combined['TransactionStartTime'] = pd.to_datetime(train_test_combined['TransactionStartTime'])\n",
        "train_test_combined['date'] = [d.date() for d in train_test_combined['TransactionStartTime']]\n",
        "train_test_combined['time'] = [d.time() for d in train_test_combined['TransactionStartTime']]\"\"\"\n",
        "\n",
        "train_test_combined = train_test_combined.drop(columns = ['TransactionStartTime'])"
      ],
      "execution_count": 0,
      "outputs": []
    },
    {
      "cell_type": "code",
      "metadata": {
        "id": "QRaJkEAmzf1D",
        "colab_type": "code",
        "outputId": "ec16248f-af00-4f0f-f707-a395f570c908",
        "colab": {
          "base_uri": "https://localhost:8080/",
          "height": 35
        }
      },
      "source": [
        "# Checking length is the same \n",
        "len(train_test_combined) == (len(train) + len(test))"
      ],
      "execution_count": 110,
      "outputs": [
        {
          "output_type": "execute_result",
          "data": {
            "text/plain": [
              "True"
            ]
          },
          "metadata": {
            "tags": []
          },
          "execution_count": 110
        }
      ]
    },
    {
      "cell_type": "code",
      "metadata": {
        "id": "YFIfmJYJ0hrr",
        "colab_type": "code",
        "outputId": "780b5c85-df71-4c0a-8455-45f122dcdf29",
        "colab": {
          "base_uri": "https://localhost:8080/",
          "height": 198
        }
      },
      "source": [
        "drop = ['ChannelId','TransactionId','PricingStrategy','Value','CountryCode','CurrencyCode','CustomerId','SubscriptionId','AccountId','BatchId']\n",
        "train_test_combined = train_test_combined.drop(columns = drop)\n",
        "train_test_combined.head()"
      ],
      "execution_count": 111,
      "outputs": [
        {
          "output_type": "execute_result",
          "data": {
            "text/html": [
              "<div>\n",
              "<style scoped>\n",
              "    .dataframe tbody tr th:only-of-type {\n",
              "        vertical-align: middle;\n",
              "    }\n",
              "\n",
              "    .dataframe tbody tr th {\n",
              "        vertical-align: top;\n",
              "    }\n",
              "\n",
              "    .dataframe thead th {\n",
              "        text-align: right;\n",
              "    }\n",
              "</style>\n",
              "<table border=\"1\" class=\"dataframe\">\n",
              "  <thead>\n",
              "    <tr style=\"text-align: right;\">\n",
              "      <th></th>\n",
              "      <th>ProviderId</th>\n",
              "      <th>ProductId</th>\n",
              "      <th>ProductCategory</th>\n",
              "      <th>Amount</th>\n",
              "      <th>FraudResult</th>\n",
              "    </tr>\n",
              "  </thead>\n",
              "  <tbody>\n",
              "    <tr>\n",
              "      <th>0</th>\n",
              "      <td>6</td>\n",
              "      <td>10</td>\n",
              "      <td>airtime</td>\n",
              "      <td>1000.0</td>\n",
              "      <td>0.0</td>\n",
              "    </tr>\n",
              "    <tr>\n",
              "      <th>1</th>\n",
              "      <td>4</td>\n",
              "      <td>6</td>\n",
              "      <td>financial_services</td>\n",
              "      <td>-20.0</td>\n",
              "      <td>0.0</td>\n",
              "    </tr>\n",
              "    <tr>\n",
              "      <th>2</th>\n",
              "      <td>6</td>\n",
              "      <td>1</td>\n",
              "      <td>airtime</td>\n",
              "      <td>500.0</td>\n",
              "      <td>0.0</td>\n",
              "    </tr>\n",
              "    <tr>\n",
              "      <th>3</th>\n",
              "      <td>1</td>\n",
              "      <td>21</td>\n",
              "      <td>utility_bill</td>\n",
              "      <td>20000.0</td>\n",
              "      <td>0.0</td>\n",
              "    </tr>\n",
              "    <tr>\n",
              "      <th>4</th>\n",
              "      <td>4</td>\n",
              "      <td>6</td>\n",
              "      <td>financial_services</td>\n",
              "      <td>-644.0</td>\n",
              "      <td>0.0</td>\n",
              "    </tr>\n",
              "  </tbody>\n",
              "</table>\n",
              "</div>"
            ],
            "text/plain": [
              "   ProviderId  ProductId     ProductCategory   Amount  FraudResult\n",
              "0           6         10             airtime   1000.0          0.0\n",
              "1           4          6  financial_services    -20.0          0.0\n",
              "2           6          1             airtime    500.0          0.0\n",
              "3           1         21        utility_bill  20000.0          0.0\n",
              "4           4          6  financial_services   -644.0          0.0"
            ]
          },
          "metadata": {
            "tags": []
          },
          "execution_count": 111
        }
      ]
    },
    {
      "cell_type": "code",
      "metadata": {
        "id": "7xdMoDIK2DTS",
        "colab_type": "code",
        "outputId": "246440ef-ceda-4fa0-b6b0-0eb20db2a4b0",
        "colab": {
          "base_uri": "https://localhost:8080/",
          "height": 54
        }
      },
      "source": [
        "# Checking for class imbalance\n",
        "fraud = len(train_test_combined[train_test_combined['FraudResult'] == 1])\n",
        "not_fraud = len(train_test_combined[train_test_combined['FraudResult'] == 0])\n",
        "print('Fraud : ', fraud)\n",
        "print('Not Fraud : ', not_fraud)"
      ],
      "execution_count": 112,
      "outputs": [
        {
          "output_type": "stream",
          "text": [
            "Fraud :  193\n",
            "Not Fraud :  95469\n"
          ],
          "name": "stdout"
        }
      ]
    },
    {
      "cell_type": "code",
      "metadata": {
        "id": "Ru4rKR6z21Hy",
        "colab_type": "code",
        "outputId": "3c212c5d-6992-4c6c-ca32-97404ab60131",
        "colab": {
          "base_uri": "https://localhost:8080/",
          "height": 35
        }
      },
      "source": [
        "# Splitting processed data into train and test.\n",
        "\n",
        "train_test_combined = train_test_combined.drop(columns = ['FraudResult'])\n",
        "\n",
        "train_test_combined = pd.get_dummies(train_test_combined)\n",
        "\n",
        "y = train['FraudResult']\n",
        "X = train_test_combined[:len(y)]\n",
        "X_sub = train_test_combined[len(y):]\n",
        "\n",
        "X.shape, X_sub.shape, y.shape"
      ],
      "execution_count": 113,
      "outputs": [
        {
          "output_type": "execute_result",
          "data": {
            "text/plain": [
              "((95662, 13), (45019, 13), (95662,))"
            ]
          },
          "metadata": {
            "tags": []
          },
          "execution_count": 113
        }
      ]
    },
    {
      "cell_type": "code",
      "metadata": {
        "id": "LGYfsyKSCgc2",
        "colab_type": "code",
        "colab": {}
      },
      "source": [
        "from imblearn.over_sampling import SMOTE\n",
        "\n",
        "# setting up testing and training sets\n",
        "X_train, X_test, y_train, y_test = train_test_split(X, y, test_size=0.05, random_state=22 , stratify = y)\n",
        "\n",
        "sm = SMOTE(random_state=22,sampling_strategy = 0.9)\n",
        "smote_X, smote_y = sm.fit_sample(X_train, y_train)\n",
        "smote_X = pd.DataFrame(data = smote_X, columns = X_train.columns )\n",
        "smote_y = pd.DataFrame(data = smote_y, columns = ['FraudResult'] )\n",
        "\n",
        "smote_data = smote_X\n",
        "smote_data['FraudResult'] = smote_y['FraudResult']"
      ],
      "execution_count": 0,
      "outputs": []
    },
    {
      "cell_type": "code",
      "metadata": {
        "id": "y-isDSzJD4qG",
        "colab_type": "code",
        "outputId": "a8f50d37-6b48-4f94-a121-dd12ac65511f",
        "colab": {
          "base_uri": "https://localhost:8080/",
          "height": 35
        }
      },
      "source": [
        "X = smote_data.drop(columns = ['FraudResult'])\n",
        "y = smote_data['FraudResult']\n",
        "\n",
        "X_train1, X_test1, y_train1, y_test1 = train_test_split(X,y, test_size=0.25, random_state=22, stratify = y)\n",
        "\n",
        "LR_model = LogisticRegression()\n",
        "\n",
        "\n",
        "\n",
        "grid_parameters = {\"C\":[0.0005,0.005,0.05,0.5], \n",
        "                   \"solver\" : ['lbfgs']}\n",
        "kfold = StratifiedKFold(n_splits=5, shuffle=True, random_state=22)\n",
        "\n",
        "LR_model_GSCV = GridSearchCV(LR_model, param_grid = grid_parameters, scoring = 'f1', cv = kfold)\n",
        "LR_model_GSCV.fit(X_train1, y_train1)\n",
        "print('Parameters',LR_model_GSCV.best_params_)"
      ],
      "execution_count": 115,
      "outputs": [
        {
          "output_type": "stream",
          "text": [
            "Parameters {'C': 0.0005, 'solver': 'lbfgs'}\n"
          ],
          "name": "stdout"
        }
      ]
    },
    {
      "cell_type": "code",
      "metadata": {
        "id": "KR8Q01NNHWrb",
        "colab_type": "code",
        "outputId": "f465c950-0f5e-4d8f-bc49-18cb8133e0e8",
        "colab": {
          "base_uri": "https://localhost:8080/",
          "height": 72
        }
      },
      "source": [
        "y_pred = LR_model_GSCV.predict(X_test1) #Resampled data test\n",
        "print(\"Accuracy : \" , accuracy_score(y_test1, y_pred))\n",
        "print(\"Recall : \" , recall_score(y_test1, y_pred))\n",
        "print(\"F1 Score : \" , f1_score(y_test1, y_pred))"
      ],
      "execution_count": 116,
      "outputs": [
        {
          "output_type": "stream",
          "text": [
            "Accuracy :  0.9450092850510677\n",
            "Recall :  0.8863569538371068\n",
            "F1 Score :  0.9385361803699764\n"
          ],
          "name": "stdout"
        }
      ]
    },
    {
      "cell_type": "code",
      "metadata": {
        "id": "ty1bMaaBa8S8",
        "colab_type": "code",
        "outputId": "646f5db9-df11-4901-d4f6-f8a7193d14f1",
        "colab": {
          "base_uri": "https://localhost:8080/",
          "height": 72
        }
      },
      "source": [
        "y_pred = LR_model_GSCV.predict(X_test) # Unbalanced data test\n",
        "print(\"Accuracy : \" , accuracy_score(y_test, y_pred))\n",
        "print(\"Recall : \" , recall_score(y_test, y_pred))\n",
        "print(\"F1 Score : \" , f1_score(y_test, y_pred))"
      ],
      "execution_count": 117,
      "outputs": [
        {
          "output_type": "stream",
          "text": [
            "Accuracy :  0.9966555183946488\n",
            "Recall :  1.0\n",
            "F1 Score :  0.5555555555555556\n"
          ],
          "name": "stdout"
        }
      ]
    },
    {
      "cell_type": "code",
      "metadata": {
        "id": "Gyr55QqOsw5_",
        "colab_type": "code",
        "colab": {
          "base_uri": "https://localhost:8080/",
          "height": 181
        },
        "outputId": "a099e59f-96e2-4d8b-835f-af1746c924b6"
      },
      "source": [
        "print(classification_report(y_test, y_pred))"
      ],
      "execution_count": 118,
      "outputs": [
        {
          "output_type": "stream",
          "text": [
            "              precision    recall  f1-score   support\n",
            "\n",
            "           0       1.00      1.00      1.00      4774\n",
            "           1       0.38      1.00      0.56        10\n",
            "\n",
            "    accuracy                           1.00      4784\n",
            "   macro avg       0.69      1.00      0.78      4784\n",
            "weighted avg       1.00      1.00      1.00      4784\n",
            "\n"
          ],
          "name": "stdout"
        }
      ]
    },
    {
      "cell_type": "code",
      "metadata": {
        "id": "Bo91l_twJvxD",
        "colab_type": "code",
        "colab": {}
      },
      "source": [
        "submission_dict = {'TransactionId' : test['TransactionId'], 'FraudResult' : LR_model_GSCV.predict(X_sub)}\n",
        "submission_df = pd.DataFrame(submission_dict)\n",
        "submission_df.to_csv('submission-GridSearch111.csv', index= False)"
      ],
      "execution_count": 0,
      "outputs": []
    },
    {
      "cell_type": "code",
      "metadata": {
        "id": "n4r2lJ-kjL7b",
        "colab_type": "code",
        "colab": {}
      },
      "source": [
        ""
      ],
      "execution_count": 0,
      "outputs": []
    }
  ]
}
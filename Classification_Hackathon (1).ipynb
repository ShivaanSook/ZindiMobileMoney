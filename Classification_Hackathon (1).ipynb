{
  "nbformat": 4,
  "nbformat_minor": 0,
  "metadata": {
    "colab": {
      "name": "Classification Hackathon",
      "version": "0.3.2",
      "provenance": []
    },
    "kernelspec": {
      "name": "python3",
      "display_name": "Python 3"
    },
    "accelerator": "GPU"
  },
  "cells": [
    {
      "cell_type": "code",
      "metadata": {
        "id": "wvMqxpMFme1h",
        "colab_type": "code",
        "colab": {}
      },
      "source": [
        "# Imports.\n",
        "import pandas as pd\n",
        "pd.set_option('display.max_rows', 500)\n",
        "pd.set_option('display.max_columns', 500)\n",
        "pd.set_option('display.width', 1000)\n",
        "import numpy as np\n",
        "import re\n",
        "import datetime\n",
        "\n",
        "# Machine Learning.\n",
        "from sklearn.model_selection import train_test_split\n",
        "from sklearn.model_selection import GridSearchCV\n",
        "from sklearn.linear_model import LogisticRegression\n",
        "from sklearn.model_selection import StratifiedKFold\n",
        "from sklearn.ensemble import RandomForestClassifier\n",
        "\n",
        "# Metrics\n",
        "from sklearn.metrics import confusion_matrix\n",
        "from sklearn.metrics import classification_report\n",
        "from sklearn.metrics import accuracy_score\n",
        "from sklearn.metrics import log_loss\n",
        "from sklearn.metrics import accuracy_score,recall_score,precision_score,f1_score\n",
        "\n",
        "from sklearn.utils import resample\n",
        "\n",
        "def warn(*args, **kwargs):\n",
        "    pass\n",
        "import warnings\n",
        "warnings.warn = warn"
      ],
      "execution_count": 0,
      "outputs": []
    },
    {
      "cell_type": "code",
      "metadata": {
        "id": "QAUrkANJnE10",
        "colab_type": "code",
        "colab": {}
      },
      "source": [
        "# Data\n",
        "test = pd.read_csv('test.csv')\n",
        "train = pd.read_csv('training.csv')\n",
        "train_test_combined = pd.concat([train,test], sort = False)"
      ],
      "execution_count": 0,
      "outputs": []
    },
    {
      "cell_type": "code",
      "metadata": {
        "id": "paQEYN5yoTHZ",
        "colab_type": "code",
        "colab": {
          "base_uri": "https://localhost:8080/",
          "height": 35
        },
        "outputId": "528556d3-e51e-440a-9615-4de77e4f5daf"
      },
      "source": [
        "# Data Shape\n",
        "train.shape, test.shape, train_test_combined.shape"
      ],
      "execution_count": 52,
      "outputs": [
        {
          "output_type": "execute_result",
          "data": {
            "text/plain": [
              "((95662, 16), (45019, 15), (140681, 16))"
            ]
          },
          "metadata": {
            "tags": []
          },
          "execution_count": 52
        }
      ]
    },
    {
      "cell_type": "code",
      "metadata": {
        "id": "kTyd1__M1VzD",
        "colab_type": "code",
        "colab": {
          "base_uri": "https://localhost:8080/",
          "height": 326
        },
        "outputId": "06b7f86e-3372-4ce3-bd36-19b6eae21052"
      },
      "source": [
        "# Checking for missing data \n",
        "train_test_combined.isnull().sum()"
      ],
      "execution_count": 53,
      "outputs": [
        {
          "output_type": "execute_result",
          "data": {
            "text/plain": [
              "TransactionId               0\n",
              "BatchId                     0\n",
              "AccountId                   0\n",
              "SubscriptionId              0\n",
              "CustomerId                  0\n",
              "CurrencyCode                0\n",
              "CountryCode                 0\n",
              "ProviderId                  0\n",
              "ProductId                   0\n",
              "ProductCategory             0\n",
              "ChannelId                   0\n",
              "Amount                      0\n",
              "Value                       0\n",
              "TransactionStartTime        0\n",
              "PricingStrategy             0\n",
              "FraudResult             45019\n",
              "dtype: int64"
            ]
          },
          "metadata": {
            "tags": []
          },
          "execution_count": 53
        }
      ]
    },
    {
      "cell_type": "code",
      "metadata": {
        "id": "BDFBlktvosaR",
        "colab_type": "code",
        "colab": {
          "base_uri": "https://localhost:8080/",
          "height": 399
        },
        "outputId": "98cf7aa2-8e66-4f36-d96c-2a0fb2a617ff"
      },
      "source": [
        "# Checking dtypes\n",
        "train_test_combined.info()"
      ],
      "execution_count": 54,
      "outputs": [
        {
          "output_type": "stream",
          "text": [
            "<class 'pandas.core.frame.DataFrame'>\n",
            "Int64Index: 140681 entries, 0 to 45018\n",
            "Data columns (total 16 columns):\n",
            "TransactionId           140681 non-null object\n",
            "BatchId                 140681 non-null object\n",
            "AccountId               140681 non-null object\n",
            "SubscriptionId          140681 non-null object\n",
            "CustomerId              140681 non-null object\n",
            "CurrencyCode            140681 non-null object\n",
            "CountryCode             140681 non-null int64\n",
            "ProviderId              140681 non-null object\n",
            "ProductId               140681 non-null object\n",
            "ProductCategory         140681 non-null object\n",
            "ChannelId               140681 non-null object\n",
            "Amount                  140681 non-null float64\n",
            "Value                   140681 non-null int64\n",
            "TransactionStartTime    140681 non-null object\n",
            "PricingStrategy         140681 non-null int64\n",
            "FraudResult             95662 non-null float64\n",
            "dtypes: float64(2), int64(3), object(11)\n",
            "memory usage: 18.2+ MB\n"
          ],
          "name": "stdout"
        }
      ]
    },
    {
      "cell_type": "code",
      "metadata": {
        "id": "M0rO2oKxo0jB",
        "colab_type": "code",
        "colab": {}
      },
      "source": [
        "# Removing text from columns and converting them to numerical dtype\n",
        "def remove_text(string):\n",
        "  string = re.sub('[a-zA-Z]+_', '', string)\n",
        "  return string\n",
        "\n",
        "train_test_combined['TransactionId'] = train_test_combined['TransactionId'].apply(remove_text)\n",
        "train_test_combined['TransactionId'] = train_test_combined['TransactionId'].astype('int')\n",
        "\n",
        "train_test_combined['BatchId'] = train_test_combined['BatchId'].apply(remove_text)\n",
        "train_test_combined['BatchId'] = train_test_combined['BatchId'].astype('int')\n",
        "\n",
        "train_test_combined['AccountId'] = train_test_combined['AccountId'].apply(remove_text)\n",
        "train_test_combined['AccountId'] = train_test_combined['AccountId'].astype('int')\n",
        "\n",
        "train_test_combined['SubscriptionId'] = train_test_combined['SubscriptionId'].apply(remove_text)\n",
        "train_test_combined['SubscriptionId'] = train_test_combined['SubscriptionId'].astype('int')\n",
        "\n",
        "train_test_combined['CustomerId'] = train_test_combined['CustomerId'].apply(remove_text)\n",
        "train_test_combined['CustomerId'] = train_test_combined['CustomerId'].astype('int')\n",
        "\n",
        "train_test_combined['ProviderId'] = train_test_combined['ProviderId'].apply(remove_text)\n",
        "train_test_combined['ProviderId'] = train_test_combined['ProviderId'].astype('int')\n",
        "\n",
        "train_test_combined['ProductId'] = train_test_combined['ProductId'].apply(remove_text)\n",
        "train_test_combined['ProductId'] = train_test_combined['ProductId'].astype('int')\n",
        "\n",
        "train_test_combined['ChannelId'] = train_test_combined['ChannelId'].apply(remove_text)\n",
        "train_test_combined['ChannelId'] = train_test_combined['ChannelId'].astype('int')"
      ],
      "execution_count": 0,
      "outputs": []
    },
    {
      "cell_type": "code",
      "metadata": {
        "id": "8x2bcmBUwua_",
        "colab_type": "code",
        "colab": {}
      },
      "source": [
        "# Handling Date and Time\n",
        "\"\"\"train_test_combined['TransactionStartTime'] = pd.to_datetime(train_test_combined['TransactionStartTime'])\n",
        "train_test_combined['date'] = [d.date() for d in train_test_combined['TransactionStartTime']]\n",
        "train_test_combined['time'] = [d.time() for d in train_test_combined['TransactionStartTime']]\"\"\"\n",
        "\n",
        "train_test_combined = train_test_combined.drop(columns = ['TransactionStartTime'])"
      ],
      "execution_count": 0,
      "outputs": []
    },
    {
      "cell_type": "code",
      "metadata": {
        "id": "QRaJkEAmzf1D",
        "colab_type": "code",
        "colab": {
          "base_uri": "https://localhost:8080/",
          "height": 35
        },
        "outputId": "54f3969d-d29e-4ee9-d7b3-86f02175fa32"
      },
      "source": [
        "# Checking length is the same \n",
        "len(train_test_combined) == (len(train) + len(test))"
      ],
      "execution_count": 57,
      "outputs": [
        {
          "output_type": "execute_result",
          "data": {
            "text/plain": [
              "True"
            ]
          },
          "metadata": {
            "tags": []
          },
          "execution_count": 57
        }
      ]
    },
    {
      "cell_type": "code",
      "metadata": {
        "id": "YFIfmJYJ0hrr",
        "colab_type": "code",
        "colab": {
          "base_uri": "https://localhost:8080/",
          "height": 198
        },
        "outputId": "bd061a8d-f973-410e-9c27-57cf1dc124cb"
      },
      "source": [
        "drop = ['TransactionId','PricingStrategy','Value','ProductCategory','CountryCode','CurrencyCode','CustomerId','SubscriptionId','AccountId','BatchId']\n",
        "train_test_combined = train_test_combined.drop(columns = drop)\n",
        "train_test_combined.head()"
      ],
      "execution_count": 58,
      "outputs": [
        {
          "output_type": "execute_result",
          "data": {
            "text/html": [
              "<div>\n",
              "<style scoped>\n",
              "    .dataframe tbody tr th:only-of-type {\n",
              "        vertical-align: middle;\n",
              "    }\n",
              "\n",
              "    .dataframe tbody tr th {\n",
              "        vertical-align: top;\n",
              "    }\n",
              "\n",
              "    .dataframe thead th {\n",
              "        text-align: right;\n",
              "    }\n",
              "</style>\n",
              "<table border=\"1\" class=\"dataframe\">\n",
              "  <thead>\n",
              "    <tr style=\"text-align: right;\">\n",
              "      <th></th>\n",
              "      <th>ProviderId</th>\n",
              "      <th>ProductId</th>\n",
              "      <th>ChannelId</th>\n",
              "      <th>Amount</th>\n",
              "      <th>FraudResult</th>\n",
              "    </tr>\n",
              "  </thead>\n",
              "  <tbody>\n",
              "    <tr>\n",
              "      <th>0</th>\n",
              "      <td>6</td>\n",
              "      <td>10</td>\n",
              "      <td>3</td>\n",
              "      <td>1000.0</td>\n",
              "      <td>0.0</td>\n",
              "    </tr>\n",
              "    <tr>\n",
              "      <th>1</th>\n",
              "      <td>4</td>\n",
              "      <td>6</td>\n",
              "      <td>2</td>\n",
              "      <td>-20.0</td>\n",
              "      <td>0.0</td>\n",
              "    </tr>\n",
              "    <tr>\n",
              "      <th>2</th>\n",
              "      <td>6</td>\n",
              "      <td>1</td>\n",
              "      <td>3</td>\n",
              "      <td>500.0</td>\n",
              "      <td>0.0</td>\n",
              "    </tr>\n",
              "    <tr>\n",
              "      <th>3</th>\n",
              "      <td>1</td>\n",
              "      <td>21</td>\n",
              "      <td>3</td>\n",
              "      <td>20000.0</td>\n",
              "      <td>0.0</td>\n",
              "    </tr>\n",
              "    <tr>\n",
              "      <th>4</th>\n",
              "      <td>4</td>\n",
              "      <td>6</td>\n",
              "      <td>2</td>\n",
              "      <td>-644.0</td>\n",
              "      <td>0.0</td>\n",
              "    </tr>\n",
              "  </tbody>\n",
              "</table>\n",
              "</div>"
            ],
            "text/plain": [
              "   ProviderId  ProductId  ChannelId   Amount  FraudResult\n",
              "0           6         10          3   1000.0          0.0\n",
              "1           4          6          2    -20.0          0.0\n",
              "2           6          1          3    500.0          0.0\n",
              "3           1         21          3  20000.0          0.0\n",
              "4           4          6          2   -644.0          0.0"
            ]
          },
          "metadata": {
            "tags": []
          },
          "execution_count": 58
        }
      ]
    },
    {
      "cell_type": "code",
      "metadata": {
        "id": "7xdMoDIK2DTS",
        "colab_type": "code",
        "colab": {
          "base_uri": "https://localhost:8080/",
          "height": 54
        },
        "outputId": "570defef-f6f7-46e9-c4ab-c2a045febd3c"
      },
      "source": [
        "# Checking for class imbalance\n",
        "fraud = len(train_test_combined[train_test_combined['FraudResult'] == 1])\n",
        "not_fraud = len(train_test_combined[train_test_combined['FraudResult'] == 0])\n",
        "print('Fraud : ', fraud)\n",
        "print('Not Fraud : ', not_fraud)"
      ],
      "execution_count": 59,
      "outputs": [
        {
          "output_type": "stream",
          "text": [
            "Fraud :  193\n",
            "Not Fraud :  95469\n"
          ],
          "name": "stdout"
        }
      ]
    },
    {
      "cell_type": "code",
      "metadata": {
        "id": "Ru4rKR6z21Hy",
        "colab_type": "code",
        "colab": {
          "base_uri": "https://localhost:8080/",
          "height": 35
        },
        "outputId": "4b6a940f-c266-4878-b431-1f197e20988e"
      },
      "source": [
        "# Splitting processed data into train and test.\n",
        "\n",
        "train_test_combined = train_test_combined.drop(columns = ['FraudResult'])\n",
        "\n",
        "train_test_combined = pd.get_dummies(train_test_combined)\n",
        "\n",
        "y = train['FraudResult']\n",
        "X = train_test_combined[:len(y)]\n",
        "X_sub = train_test_combined[len(y):]\n",
        "\n",
        "X.shape, X_sub.shape, y.shape"
      ],
      "execution_count": 60,
      "outputs": [
        {
          "output_type": "execute_result",
          "data": {
            "text/plain": [
              "((95662, 4), (45019, 4), (95662,))"
            ]
          },
          "metadata": {
            "tags": []
          },
          "execution_count": 60
        }
      ]
    },
    {
      "cell_type": "code",
      "metadata": {
        "id": "LGYfsyKSCgc2",
        "colab_type": "code",
        "colab": {}
      },
      "source": [
        "from imblearn.over_sampling import SMOTE\n",
        "\n",
        "# setting up testing and training sets\n",
        "X_train, X_test, y_train, y_test = train_test_split(X, y, test_size=0.05, random_state=22 , stratify = y)\n",
        "\n",
        "sm = SMOTE(random_state=22)\n",
        "smote_X, smote_y = sm.fit_sample(X_train, y_train)\n",
        "smote_X = pd.DataFrame(data = smote_X, columns = X_train.columns )\n",
        "smote_y = pd.DataFrame(data = smote_y, columns = ['FraudResult'] )\n",
        "\n",
        "smote_data = smote_X\n",
        "smote_data['FraudResult'] = smote_y['FraudResult']"
      ],
      "execution_count": 0,
      "outputs": []
    },
    {
      "cell_type": "code",
      "metadata": {
        "id": "y-isDSzJD4qG",
        "colab_type": "code",
        "colab": {
          "base_uri": "https://localhost:8080/",
          "height": 35
        },
        "outputId": "b3d5e3b6-ca62-4eca-e33a-e816b94ccf59"
      },
      "source": [
        "X = smote_data.drop(columns = ['FraudResult'])\n",
        "y = smote_data['FraudResult']\n",
        "\n",
        "X_train1, X_test1, y_train1, y_test1 = train_test_split(X,y, test_size=0.25, random_state=22, stratify = y)\n",
        "\n",
        "LR_model = LogisticRegression()\n",
        "\n",
        "\n",
        "\n",
        "grid_parameters = {\"C\":[0.05,0.5,1,5,30], \n",
        "                   \"solver\" : ['lbfgs']}\n",
        "kfold = StratifiedKFold(n_splits=5, shuffle=True, random_state=22)\n",
        "\n",
        "LR_model_GSCV = GridSearchCV(LR_model, param_grid = grid_parameters, scoring = 'f1', cv = kfold)\n",
        "LR_model_GSCV.fit(X_train1, y_train1)\n",
        "print('Parameters',LR_model_GSCV.best_params_)"
      ],
      "execution_count": 62,
      "outputs": [
        {
          "output_type": "stream",
          "text": [
            "Parameters {'C': 0.05, 'solver': 'lbfgs'}\n"
          ],
          "name": "stdout"
        }
      ]
    },
    {
      "cell_type": "code",
      "metadata": {
        "id": "KR8Q01NNHWrb",
        "colab_type": "code",
        "colab": {
          "base_uri": "https://localhost:8080/",
          "height": 72
        },
        "outputId": "d8873c93-aa3f-4d2d-8dac-c9a920d8aa70"
      },
      "source": [
        "y_pred = LR_model_GSCV.predict(X_test1) #Resampled data test\n",
        "print(\"Accuracy : \" , accuracy_score(y_test1, y_pred))\n",
        "print(\"Recall : \" , recall_score(y_test1, y_pred))\n",
        "print(\"F1 Score : \" , f1_score(y_test1, y_pred))"
      ],
      "execution_count": 63,
      "outputs": [
        {
          "output_type": "stream",
          "text": [
            "Accuracy :  0.9433051071712093\n",
            "Recall :  0.8888153832583576\n",
            "F1 Score :  0.9400377824941111\n"
          ],
          "name": "stdout"
        }
      ]
    },
    {
      "cell_type": "code",
      "metadata": {
        "id": "ty1bMaaBa8S8",
        "colab_type": "code",
        "colab": {
          "base_uri": "https://localhost:8080/",
          "height": 72
        },
        "outputId": "c8a93838-6bf6-4456-b34f-d902d2bae2b2"
      },
      "source": [
        "y_pred = LR_model_GSCV.predict(X_test) # Unbalanced data test\n",
        "print(\"Accuracy : \" , accuracy_score(y_test, y_pred))\n",
        "print(\"Recall : \" , recall_score(y_test, y_pred))\n",
        "print(\"F1 Score : \" , f1_score(y_test, y_pred))"
      ],
      "execution_count": 64,
      "outputs": [
        {
          "output_type": "stream",
          "text": [
            "Accuracy :  0.9966555183946488\n",
            "Recall :  1.0\n",
            "F1 Score :  0.5555555555555556\n"
          ],
          "name": "stdout"
        }
      ]
    },
    {
      "cell_type": "code",
      "metadata": {
        "id": "Bo91l_twJvxD",
        "colab_type": "code",
        "colab": {}
      },
      "source": [
        "submission_dict = {'TransactionId' : test['TransactionId'], 'FraudResult' : LR_model_GSCV.predict(X_sub)}\n",
        "submission_df = pd.DataFrame(submission_dict)\n",
        "submission_df.to_csv('submission-GridSearch7.csv', index= False)"
      ],
      "execution_count": 0,
      "outputs": []
    },
    {
      "cell_type": "code",
      "metadata": {
        "id": "n4r2lJ-kjL7b",
        "colab_type": "code",
        "colab": {}
      },
      "source": [
        ""
      ],
      "execution_count": 0,
      "outputs": []
    }
  ]
}